{
 "cells": [
  {
   "cell_type": "markdown",
   "metadata": {},
   "source": [
    "# Data Creation"
   ]
  },
  {
   "cell_type": "code",
   "execution_count": 1,
   "metadata": {},
   "outputs": [
    {
     "data": {
      "text/plain": [
       "array([[[1., 0., 0., 0., 0.],\n",
       "        [0., 1., 0., 0., 0.],\n",
       "        [1., 0., 0., 0., 0.],\n",
       "        [0., 0., 1., 0., 0.],\n",
       "        [0., 0., 0., 1., 0.],\n",
       "        [0., 0., 0., 1., 0.]]], dtype=float32)"
      ]
     },
     "execution_count": 1,
     "metadata": {},
     "output_type": "execute_result"
    }
   ],
   "source": [
    "from tensorflow import keras\n",
    "\n",
    "# Data creation\n",
    "idx2char = ['h','i','e','l','o'] # h=0, i=1, e=2, l=3, o=4\n",
    "x_data = [[0,1,0,2,3,3]] # hihell\n",
    "y_data = [[1,0,2,3,3,4]] # ihello\n",
    "x_one_hot = keras.utils.to_categorical(x_data, 5)\n",
    "x_one_hot"
   ]
  },
  {
   "cell_type": "markdown",
   "metadata": {},
   "source": [
    "# RNN model generation"
   ]
  },
  {
   "cell_type": "code",
   "execution_count": 2,
   "metadata": {},
   "outputs": [],
   "source": [
    "# 1 step : parameters setting\n",
    "hidden_size = 5\n",
    "input_dim = 5\n",
    "batch_size = 1\n",
    "sequence_length = 6 # (|hihello| = 7) - 1"
   ]
  },
  {
   "cell_type": "code",
   "execution_count": 3,
   "metadata": {},
   "outputs": [],
   "source": [
    "# 2 step : palceholder generation\n",
    "import tensorflow as tf\n",
    "\n",
    "x = tf.placeholder(tf.float32, [None, sequence_length, input_dim]) # x one-hot \n",
    "# None : batch size를 딱 정하지 않음   \n",
    "y = tf.placeholder(tf.int32, [None, sequence_length]) # y label"
   ]
  },
  {
   "cell_type": "code",
   "execution_count": 4,
   "metadata": {},
   "outputs": [
    {
     "name": "stderr",
     "output_type": "stream",
     "text": [
      "WARNING: Logging before flag parsing goes to stderr.\n",
      "W1008 15:44:58.327431 32048 lazy_loader.py:50] \n",
      "The TensorFlow contrib module will not be included in TensorFlow 2.0.\n",
      "For more information, please see:\n",
      "  * https://github.com/tensorflow/community/blob/master/rfcs/20180907-contrib-sunset.md\n",
      "  * https://github.com/tensorflow/addons\n",
      "  * https://github.com/tensorflow/io (for I/O related ops)\n",
      "If you depend on functionality not listed there, please file an issue.\n",
      "\n",
      "W1008 15:44:58.331455 32048 deprecation.py:323] From <ipython-input-4-3cd471c07736>:3: BasicLSTMCell.__init__ (from tensorflow.python.ops.rnn_cell_impl) is deprecated and will be removed in a future version.\n",
      "Instructions for updating:\n",
      "This class is equivalent as tf.keras.layers.LSTMCell, and will be replaced by that in Tensorflow 2.0.\n",
      "W1008 15:44:58.407245 32048 deprecation.py:323] From <ipython-input-4-3cd471c07736>:8: dynamic_rnn (from tensorflow.python.ops.rnn) is deprecated and will be removed in a future version.\n",
      "Instructions for updating:\n",
      "Please use `keras.layers.RNN(cell)`, which is equivalent to this API\n",
      "W1008 15:44:58.458116 32048 deprecation.py:506] From C:\\Users\\tldud\\.conda\\envs\\tldud\\lib\\site-packages\\tensorflow\\python\\ops\\init_ops.py:1251: calling VarianceScaling.__init__ (from tensorflow.python.ops.init_ops) with dtype is deprecated and will be removed in a future version.\n",
      "Instructions for updating:\n",
      "Call initializer instance with the dtype argument instead of passing it to the constructor\n",
      "W1008 15:44:58.467059 32048 deprecation.py:506] From C:\\Users\\tldud\\.conda\\envs\\tldud\\lib\\site-packages\\tensorflow\\python\\ops\\rnn_cell_impl.py:738: calling Zeros.__init__ (from tensorflow.python.ops.init_ops) with dtype is deprecated and will be removed in a future version.\n",
      "Instructions for updating:\n",
      "Call initializer instance with the dtype argument instead of passing it to the constructor\n"
     ]
    }
   ],
   "source": [
    "# 3 step : cell generation\n",
    "#cell = rnn_cell.BasicRNNCell(rnn_size) \n",
    "cell = tf.contrib.rnn.BasicLSTMCell(num_units=hidden_size, state_is_tuple=True) \n",
    "#cell = rnn_cell.BasicGRUCell(rnn_size) \n",
    "initial_state = cell.zero_state(batch_size, tf.float32)\n",
    "\n",
    "# 4 step : dynamic function generation\n",
    "outputs, _states = tf.nn.dynamic_rnn(cell, x, initial_state=initial_state, dtype=tf.float32)\n",
    "weights = tf.ones([batch_size, sequence_length])"
   ]
  },
  {
   "cell_type": "markdown",
   "metadata": {},
   "source": [
    "# Cost model setting"
   ]
  },
  {
   "cell_type": "code",
   "execution_count": 6,
   "metadata": {},
   "outputs": [],
   "source": [
    "sequence_loss = tf.contrib.seq2seq.sequence_loss(logits=outputs, targets=y, weights=weights)\n",
    "loss = tf.reduce_mean(sequence_loss)\n",
    "train = tf.train.AdamOptimizer(learning_rate=0.1).minimize(loss)"
   ]
  },
  {
   "cell_type": "markdown",
   "metadata": {},
   "source": [
    "# Training"
   ]
  },
  {
   "cell_type": "code",
   "execution_count": 7,
   "metadata": {},
   "outputs": [
    {
     "name": "stdout",
     "output_type": "stream",
     "text": [
      "0 loss: 1.5806737 \n",
      "   prediction: [[3 3 3 3 3 3]] \n",
      "   true y: [[1, 0, 2, 3, 3, 4]]\n",
      "   Prediction str:  llllll\n",
      "200 loss: 0.62146384 \n",
      "   prediction: [[1 0 2 3 3 4]] \n",
      "   true y: [[1, 0, 2, 3, 3, 4]]\n",
      "   Prediction str:  ihello\n",
      "400 loss: 0.5924681 \n",
      "   prediction: [[1 0 2 3 3 4]] \n",
      "   true y: [[1, 0, 2, 3, 3, 4]]\n",
      "   Prediction str:  ihello\n",
      "600 loss: 0.5898751 \n",
      "   prediction: [[1 0 2 3 3 4]] \n",
      "   true y: [[1, 0, 2, 3, 3, 4]]\n",
      "   Prediction str:  ihello\n",
      "800 loss: 0.58838964 \n",
      "   prediction: [[1 0 2 3 3 4]] \n",
      "   true y: [[1, 0, 2, 3, 3, 4]]\n",
      "   Prediction str:  ihello\n",
      "1000 loss: 0.58737165 \n",
      "   prediction: [[1 0 2 3 3 4]] \n",
      "   true y: [[1, 0, 2, 3, 3, 4]]\n",
      "   Prediction str:  ihello\n",
      "1200 loss: 0.5866076 \n",
      "   prediction: [[1 0 2 3 3 4]] \n",
      "   true y: [[1, 0, 2, 3, 3, 4]]\n",
      "   Prediction str:  ihello\n",
      "1400 loss: 0.5859998 \n",
      "   prediction: [[1 0 2 3 3 4]] \n",
      "   true y: [[1, 0, 2, 3, 3, 4]]\n",
      "   Prediction str:  ihello\n",
      "1600 loss: 0.58549684 \n",
      "   prediction: [[1 0 2 3 3 4]] \n",
      "   true y: [[1, 0, 2, 3, 3, 4]]\n",
      "   Prediction str:  ihello\n",
      "1800 loss: 0.5850687 \n",
      "   prediction: [[1 0 2 3 3 4]] \n",
      "   true y: [[1, 0, 2, 3, 3, 4]]\n",
      "   Prediction str:  ihello\n"
     ]
    }
   ],
   "source": [
    "import numpy as np\n",
    "\n",
    "prediction = tf.argmax(outputs, axis=2)\n",
    "\n",
    "sess = tf.Session()\n",
    "sess.run(tf.global_variables_initializer())\n",
    "\n",
    "for i in range(2000):\n",
    "    l, _ = sess.run([loss, train], feed_dict={x: x_one_hot, y:y_data})\n",
    "    result = sess.run(prediction, feed_dict={x: x_one_hot})\n",
    "    if i % 200 == 0:\n",
    "        print(i, \"loss:\",l, \"\\n   prediction:\",result, '\\n   true y:', y_data)\n",
    "    \n",
    "        # print char using dic\n",
    "        result_str = [idx2char[c] for c in np.squeeze(result)]\n",
    "        print(\"   Prediction str: \", ''.join(result_str))"
   ]
  },
  {
   "cell_type": "code",
   "execution_count": null,
   "metadata": {},
   "outputs": [],
   "source": []
  }
 ],
 "metadata": {
  "kernelspec": {
   "display_name": "Python 3",
   "language": "python",
   "name": "python3"
  },
  "language_info": {
   "codemirror_mode": {
    "name": "ipython",
    "version": 3
   },
   "file_extension": ".py",
   "mimetype": "text/x-python",
   "name": "python",
   "nbconvert_exporter": "python",
   "pygments_lexer": "ipython3",
   "version": "3.6.8"
  }
 },
 "nbformat": 4,
 "nbformat_minor": 2
}
