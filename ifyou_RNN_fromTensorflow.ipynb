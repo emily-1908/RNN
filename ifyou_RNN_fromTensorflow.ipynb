{
 "cells": [
  {
   "cell_type": "markdown",
   "metadata": {},
   "source": [
    "# Model Structure"
   ]
  },
  {
   "cell_type": "code",
   "execution_count": 1,
   "metadata": {},
   "outputs": [
    {
     "data": {
      "image/png": "[encoded data removed]",
      "text/plain": [
       "<IPython.core.display.Image object>"
      ]
     },
     "execution_count": 1,
     "metadata": {},
     "output_type": "execute_result"
    }
   ],
   "source": [
    "from IPython.display import Image\n",
    "Image('D:/jupyter/ifyou_RNN_fromTensorflow.png')"
   ]
  },
  {
   "cell_type": "markdown",
   "metadata": {},
   "source": [
    "# Data Creation"
   ]
  },
  {
   "cell_type": "code",
   "execution_count": 2,
   "metadata": {},
   "outputs": [],
   "source": [
    "import tensorflow as tf\n",
    "from tensorflow import keras\n",
    "import numpy as np"
   ]
  },
  {
   "cell_type": "code",
   "execution_count": 3,
   "metadata": {},
   "outputs": [
    {
     "data": {
      "text/plain": [
       "{'f': 0,\n",
       " 'u': 1,\n",
       " 'y': 2,\n",
       " 'i': 3,\n",
       " 'o': 4,\n",
       " 'w': 5,\n",
       " 't': 6,\n",
       " 'n': 7,\n",
       " ' ': 8,\n",
       " 'a': 9}"
      ]
     },
     "execution_count": 3,
     "metadata": {},
     "output_type": "execute_result"
    }
   ],
   "source": [
    "sample = \"if you want you\"\n",
    "idx2char = list(set(sample))\n",
    "char2idx = {c: i for i, c in enumerate(idx2char)} # char -> idx \n",
    "char2idx"
   ]
  },
  {
   "cell_type": "code",
   "execution_count": 4,
   "metadata": {},
   "outputs": [],
   "source": [
    "sample_idx = [char2idx[c] for c in sample]\n",
    "x_data = [sample_idx[:-1]]\n",
    "y_data = [sample_idx[1:]]"
   ]
  },
  {
   "cell_type": "code",
   "execution_count": 5,
   "metadata": {},
   "outputs": [
    {
     "data": {
      "text/plain": [
       "[[3, 0, 8, 2, 4, 1, 8, 5, 9, 7, 6, 8, 2, 4]]"
      ]
     },
     "execution_count": 5,
     "metadata": {},
     "output_type": "execute_result"
    }
   ],
   "source": [
    "x_data"
   ]
  },
  {
   "cell_type": "code",
   "execution_count": 6,
   "metadata": {},
   "outputs": [],
   "source": [
    "hidden_size = len(char2idx) # model output size\n",
    "num_classes = len(char2idx) # final output size\n",
    "batch_size = 1\n",
    "sequence_length = len(sample)-1 # number of LSTM unfolding "
   ]
  },
  {
   "cell_type": "code",
   "execution_count": 7,
   "metadata": {},
   "outputs": [],
   "source": [
    "X = tf.placeholder(tf.int32, [None, sequence_length]) # x data, None: batch size를 정하지 않음 \n",
    "Y = tf.placeholder(tf.int32, [None, sequence_length]) # y label"
   ]
  },
  {
   "cell_type": "code",
   "execution_count": 8,
   "metadata": {},
   "outputs": [
    {
     "data": {
      "text/plain": [
       "array([[[0., 0., 0., 1., 0., 0., 0., 0., 0., 0.],\n",
       "        [1., 0., 0., 0., 0., 0., 0., 0., 0., 0.],\n",
       "        [0., 0., 0., 0., 0., 0., 0., 0., 1., 0.],\n",
       "        [0., 0., 1., 0., 0., 0., 0., 0., 0., 0.],\n",
       "        [0., 0., 0., 0., 1., 0., 0., 0., 0., 0.],\n",
       "        [0., 1., 0., 0., 0., 0., 0., 0., 0., 0.],\n",
       "        [0., 0., 0., 0., 0., 0., 0., 0., 1., 0.],\n",
       "        [0., 0., 0., 0., 0., 1., 0., 0., 0., 0.],\n",
       "        [0., 0., 0., 0., 0., 0., 0., 0., 0., 1.],\n",
       "        [0., 0., 0., 0., 0., 0., 0., 1., 0., 0.],\n",
       "        [0., 0., 0., 0., 0., 0., 1., 0., 0., 0.],\n",
       "        [0., 0., 0., 0., 0., 0., 0., 0., 1., 0.],\n",
       "        [0., 0., 1., 0., 0., 0., 0., 0., 0., 0.],\n",
       "        [0., 0., 0., 0., 1., 0., 0., 0., 0., 0.]]], dtype=float32)"
      ]
     },
     "execution_count": 8,
     "metadata": {},
     "output_type": "execute_result"
    }
   ],
   "source": [
    "x_one_hot = keras.utils.to_categorical(x_data, num_classes)\n",
    "x_one_hot"
   ]
  },
  {
   "cell_type": "markdown",
   "metadata": {},
   "source": [
    "# RNN model generation & Training"
   ]
  },
  {
   "cell_type": "code",
   "execution_count": 10,
   "metadata": {},
   "outputs": [
    {
     "name": "stderr",
     "output_type": "stream",
     "text": [
      "W1014 23:54:12.532327 41832 deprecation.py:323] From <ipython-input-10-349a1b5993d3>:2: BasicLSTMCell.__init__ (from tensorflow.python.ops.rnn_cell_impl) is deprecated and will be removed in a future version.\n",
      "Instructions for updating:\n",
      "This class is equivalent as tf.keras.layers.LSTMCell, and will be replaced by that in Tensorflow 2.0.\n",
      "W1014 23:54:12.543314 41832 deprecation.py:323] From <ipython-input-10-349a1b5993d3>:6: dynamic_rnn (from tensorflow.python.ops.rnn) is deprecated and will be removed in a future version.\n",
      "Instructions for updating:\n",
      "Please use `keras.layers.RNN(cell)`, which is equivalent to this API\n",
      "W1014 23:54:12.585202 41832 deprecation.py:506] From C:\\Users\\tldud\\.conda\\envs\\tldud\\lib\\site-packages\\tensorflow\\python\\ops\\init_ops.py:1251: calling VarianceScaling.__init__ (from tensorflow.python.ops.init_ops) with dtype is deprecated and will be removed in a future version.\n",
      "Instructions for updating:\n",
      "Call initializer instance with the dtype argument instead of passing it to the constructor\n",
      "W1014 23:54:12.597177 41832 deprecation.py:506] From C:\\Users\\tldud\\.conda\\envs\\tldud\\lib\\site-packages\\tensorflow\\python\\ops\\rnn_cell_impl.py:738: calling Zeros.__init__ (from tensorflow.python.ops.init_ops) with dtype is deprecated and will be removed in a future version.\n",
      "Instructions for updating:\n",
      "Call initializer instance with the dtype argument instead of passing it to the constructor\n"
     ]
    }
   ],
   "source": [
    "# cell generation\n",
    "cell = tf.contrib.rnn.BasicLSTMCell(num_units=hidden_size, state_is_tuple=True)\n",
    "initial_state = cell.zero_state(batch_size, tf.float32)\n",
    "\n",
    "# dynamic function generation\n",
    "outputs, _states = tf.nn.dynamic_rnn(cell, x_one_hot, initial_state=initial_state, dtype=tf.float32)\n",
    "weights = tf.ones([batch_size, sequence_length])\n",
    "\n",
    "# cost function setting\n",
    "sequence_loss = tf.contrib.seq2seq.sequence_loss(logits=outputs, targets=Y, weights=weights)\n",
    "loss = tf.reduce_mean(sequence_loss)\n",
    "train = tf.train.AdamOptimizer(learning_rate=0.1).minimize(loss)\n",
    "\n",
    "# prediction\n",
    "prediction = tf.argmax(outputs, axis=2)"
   ]
  },
  {
   "cell_type": "code",
   "execution_count": 11,
   "metadata": {},
   "outputs": [
    {
     "name": "stdout",
     "output_type": "stream",
     "text": [
      "0 Loss: 2.284936 Prediction: o  ounnnnuuuuu\n",
      "100 Loss: 0.9881405 Prediction: f you want you\n",
      "200 Loss: 0.9767238 Prediction: f you want you\n",
      "300 Loss: 0.97306436 Prediction: f you want you\n",
      "400 Loss: 0.9724143 Prediction: f you want you\n",
      "500 Loss: 0.9721112 Prediction: f you want you\n",
      "600 Loss: 0.971928 Prediction: f you want you\n",
      "700 Loss: 0.9718057 Prediction: f you want you\n",
      "800 Loss: 0.96553105 Prediction: f you want you\n",
      "900 Loss: 0.9654445 Prediction: f you want you\n",
      "1000 Loss: 0.9654932 Prediction: f you want you\n",
      "1100 Loss: 0.9653541 Prediction: f you want you\n",
      "1200 Loss: 0.96531814 Prediction: f you want you\n",
      "1300 Loss: 0.9652778 Prediction: f you want you\n",
      "1400 Loss: 0.9652781 Prediction: f you want you\n",
      "1500 Loss: 0.96525437 Prediction: f you want you\n",
      "1600 Loss: 0.96521586 Prediction: f you want you\n",
      "1700 Loss: 0.965207 Prediction: f you want you\n",
      "1800 Loss: 0.9651894 Prediction: f you want you\n",
      "1900 Loss: 0.96520853 Prediction: f you want you\n",
      "2000 Loss: 0.96517414 Prediction: f you want you\n",
      "2100 Loss: 0.9497364 Prediction: f you want you\n",
      "2200 Loss: 0.94972295 Prediction: f you want you\n",
      "2300 Loss: 0.9497155 Prediction: f you want you\n",
      "2400 Loss: 0.94970936 Prediction: f you want you\n",
      "2500 Loss: 0.9497042 Prediction: f you want you\n",
      "2600 Loss: 0.9496996 Prediction: f you want you\n",
      "2700 Loss: 0.94969565 Prediction: f you want you\n",
      "2800 Loss: 0.9496921 Prediction: f you want you\n",
      "2900 Loss: 0.9496888 Prediction: f you want you\n"
     ]
    }
   ],
   "source": [
    "with tf.Session() as sess:\n",
    "    sess.run(tf.global_variables_initializer())\n",
    "    for i in range(3000):\n",
    "        l, _ = sess.run([loss, train], feed_dict={X:x_data, Y:y_data})\n",
    "        result = sess.run(prediction, feed_dict={X:x_data})\n",
    "        result_str = [idx2char[c] for c in np.squeeze(result)]# squeeze : Remove single-dimensional\n",
    "        #print(i, \"Loss:\", l, \"Prediction:\",''.join(result_str))\n",
    "        if i%100 == 0:\n",
    "            print(i, \"Loss:\", l, \"Prediction:\",''.join(result_str))"
   ]
  },
  {
   "cell_type": "code",
   "execution_count": 14,
   "metadata": {},
   "outputs": [
    {
     "data": {
      "text/plain": [
       "['f', ' ', 'y', 'o', 'u', ' ', 'w', 'a', 'n', 't', ' ', 'y', 'o', 'u']"
      ]
     },
     "execution_count": 14,
     "metadata": {},
     "output_type": "execute_result"
    }
   ],
   "source": [
    "result_str"
   ]
  },
  {
   "cell_type": "code",
   "execution_count": null,
   "metadata": {},
   "outputs": [],
   "source": []
  }
 ],
 "metadata": {
  "kernelspec": {
   "display_name": "Python 3",
   "language": "python",
   "name": "python3"
  },
  "language_info": {
   "codemirror_mode": {
    "name": "ipython",
    "version": 3
   },
   "file_extension": ".py",
   "mimetype": "text/x-python",
   "name": "python",
   "nbconvert_exporter": "python",
   "pygments_lexer": "ipython3",
   "version": "3.6.8"
  }
 },
 "nbformat": 4,
 "nbformat_minor": 2
}
